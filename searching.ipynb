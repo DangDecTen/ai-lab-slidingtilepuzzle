{
 "cells": [
  {
   "cell_type": "code",
   "execution_count": 67,
   "id": "5d59318a",
   "metadata": {},
   "outputs": [],
   "source": [
    "from collections import deque\n",
    "import heapq as hq\n",
    "import math"
   ]
  },
  {
   "cell_type": "code",
   "execution_count": 77,
   "id": "8a7ba7b0",
   "metadata": {},
   "outputs": [],
   "source": [
    "class PriorityQueue:\n",
    "    \"Reference: https://docs.python.org/3/library/heapq.html#priority-queue-implementation-notes\"\n",
    "    REMOVED = \"<removed-item>\"\n",
    "    \n",
    "    \n",
    "    def __init__(self):\n",
    "        self.pq = []  # Store entries (including outdated ones) as priority queue \n",
    "        self.entries = {}  # Map item and entry. Used to access entries in priority queue\n",
    "        self.counter = 0  # Handle entries with equal priority\n",
    "\n",
    "\n",
    "    def __contains__(self, item):\n",
    "        return item in self.entries\n",
    "    \n",
    "    \n",
    "    def __len__(self):\n",
    "        return len(self.entries)\n",
    "    \n",
    "    \n",
    "    def add(self, item, priority):\n",
    "        \"Add new item or update the priority of the current item.\"\n",
    "        if item in self.entries:\n",
    "            self.remove(item)\n",
    "        entry = [priority, self.counter, item]\n",
    "        self.entries[item] = entry\n",
    "        hq.heappush(self.pq, entry)\n",
    "        self.counter += 1\n",
    "        \n",
    "\n",
    "    def remove(self, item):\n",
    "        \"Mark an existing task as REMOVED.  Raise KeyError if not found.\"\n",
    "        outdated_entry = self.entries.pop(item)\n",
    "        outdated_entry[-1] = self.REMOVED\n",
    "\n",
    "\n",
    "    def pop(self):\n",
    "        \"Remove and return the lowest priority item. Raise KeyError if empty.\"\n",
    "        while self.entries:\n",
    "            priority, _, item = hq.heappop(self.pq)\n",
    "            if item is not self.REMOVED:\n",
    "                del self.entries[item]\n",
    "                return item, priority\n",
    "        raise KeyError(\"pop from an empty priority queue\")\n",
    "    \n",
    "\n",
    "    def get_priority(self, item):\n",
    "        \"Return priority of existing item. Raise KeyError if not found.\"\n",
    "        return self.entries[item][0]"
   ]
  },
  {
   "cell_type": "markdown",
   "id": "f01d5615",
   "metadata": {},
   "source": [
    "## 1. Sliding Tile Puzzle"
   ]
  },
  {
   "cell_type": "code",
   "execution_count": 69,
   "id": "f7df9929",
   "metadata": {},
   "outputs": [
    {
     "name": "stdout",
     "output_type": "stream",
     "text": [
      "solvable\n",
      "(5, 4, 3, 2, 1, 0), size=(2, 3)\n",
      "solvable\n",
      "(7, 6, 5, 0, 4, 3, 2, 1), size=(2, 4)\n",
      "unsolvable\n",
      "(7, 6, 5, 4, 3, 2, 1, 0), size=(2, 4)\n"
     ]
    }
   ],
   "source": [
    "def count_inversion(state):\n",
    "    non_zero_state = [item for item in state if item != 0]\n",
    "    n = len(non_zero_state)\n",
    "\n",
    "    return sum(non_zero_state[i] > non_zero_state[j] for i in range(n) for j in range(i + 1, n))\n",
    "\n",
    "\n",
    "def is_solvable(state, size):\n",
    "    \"\"\"\n",
    "    Determine if a state is solvable.\n",
    "    \n",
    "    Parameters:\n",
    "        state (tuple, 1D_array): A state of the puzzle.\n",
    "        size (tuple(x, y)): The length (x) and width (y) of the puzzle.\n",
    "\n",
    "    Returns:\n",
    "        bool: Return `True` if solvable, `False` otherwise.\n",
    "    \"\"\"\n",
    "\n",
    "    # Count inversion\n",
    "    inversions = count_inversion(state)\n",
    "    \n",
    "    # Parity check\n",
    "    if size[1] % 2 != 0:  # if width is odd\n",
    "        return inversions % 2 == 0\n",
    "    if ((state.index(0) // size[1]) % 2 == 0) == (size[0] % 2 == 0):  # If black tile is on even row\n",
    "        return inversions % 2 != 0\n",
    "    return inversions % 2 == 0\n",
    "\n",
    "\n",
    "def get_goal_state(size):\n",
    "    return tuple(range(1, size[0] * size[1])) + (0,)\n",
    "\n",
    "\n",
    "states = [((5, 4, 3, 2, 1, 0), (2, 3)),\n",
    "          ((7, 6, 5, 0, 4, 3, 2, 1), (2, 4)),\n",
    "          ((7, 6, 5, 4, 3, 2, 1, 0), (2, 4))]\n",
    "for state, size in states:\n",
    "    if is_solvable(state, size):\n",
    "        print(f\"solvable\\n{state}, size={size}\")\n",
    "    else:\n",
    "        print(f\"unsolvable\\n{state}, size={size}\")"
   ]
  },
  {
   "cell_type": "markdown",
   "id": "e788155c",
   "metadata": {},
   "source": [
    "### 1.1. Uninformed Search"
   ]
  },
  {
   "cell_type": "code",
   "execution_count": 70,
   "id": "ab08ec9e",
   "metadata": {},
   "outputs": [],
   "source": [
    "def get_child(state, size, move):\n",
    "    child = list(state)\n",
    "    \n",
    "    old_id = state.index(0)\n",
    "    new_id = old_id\n",
    "    if move == 'U':\n",
    "        new_id -= size[1]\n",
    "    elif move == 'D':\n",
    "        new_id += size[1]\n",
    "    elif move == 'L':\n",
    "        new_id -= 1\n",
    "    elif move == 'R':\n",
    "        new_id += 1\n",
    "    \n",
    "    child[old_id], child[new_id] = child[new_id], child[old_id]\n",
    "    return tuple(child)\n",
    "\n",
    "\n",
    "def make_moves(state, size):\n",
    "    child_states = []\n",
    "    blank_id = state.index(0)\n",
    "    \n",
    "    if blank_id >= size[1]:  # Slide up\n",
    "        child_states.append((get_child(state, size, 'U'), 'U'))\n",
    "    if blank_id < (size[0] - 1) * size[1]:  # Slide down\n",
    "        child_states.append((get_child(state, size, 'D'), 'D'))\n",
    "    if blank_id % size[1] != 0:  # Slide left\n",
    "        child_states.append((get_child(state, size, 'L'), 'L'))\n",
    "    if blank_id % size[1] != size[1] - 1:  # Slide right\n",
    "        child_states.append((get_child(state, size, 'R'), 'R'))\n",
    "    \n",
    "    return child_states\n",
    "\n",
    "\n",
    "def solution(goal_state, parent_of):\n",
    "    path = []\n",
    "    while parent_of[goal_state][0] is not None:\n",
    "        goal_state, move = parent_of[goal_state]\n",
    "        path.append(move)\n",
    "    return path[::-1]\n",
    "\n",
    "\n",
    "def bfs(start_state, table_size):\n",
    "    frontier = deque([start_state])\n",
    "    parent_of = {start_state: (None, None)}  # state -> (parent, move)\n",
    "    goal_state = get_goal_state(table_size)\n",
    "\n",
    "    if not is_solvable(start_state, table_size):\n",
    "        return None\n",
    "    \n",
    "    if start_state == goal_state:\n",
    "        return solution(start_state, parent_of)\n",
    "    \n",
    "    while frontier:\n",
    "        parent = frontier.popleft()\n",
    "        child_states = make_moves(parent, table_size)\n",
    "        for child, move in child_states:\n",
    "            if child not in parent_of:\n",
    "                parent_of[child] = (parent, move)\n",
    "                if child == goal_state:\n",
    "                    return solution(child, parent_of)\n",
    "                frontier.append(child)\n",
    "\n",
    "\n",
    "def dfs(start_state, size):\n",
    "    frontier = [start_state]  # Stack\n",
    "    parent_of = {start_state: (None, None)}  # state -> (parent, move)\n",
    "    goal_state = get_goal_state(size)\n",
    "\n",
    "    if not is_solvable(start_state, size):\n",
    "        return None\n",
    "    \n",
    "    if start_state == goal_state:\n",
    "        print(\"Nodes generated:\", len(parent_of))\n",
    "        return solution(start_state, parent_of)\n",
    "    \n",
    "    while frontier:\n",
    "        parent = frontier.pop()\n",
    "        child_states = make_moves(parent, size)\n",
    "        for child, move in child_states:\n",
    "            if child not in parent_of:\n",
    "                parent_of[child] = (parent, move)\n",
    "                if child == goal_state:\n",
    "                    print(\"Nodes generated:\", len(parent_of))\n",
    "                    return solution(child, parent_of)\n",
    "                frontier.append(child)\n",
    "\n",
    "\n",
    "def dls(start_state, size, limit):\n",
    "    # Consts\n",
    "    PATH_FOUND, CUTOFF, FAILED = '<path_found>', '<cutoff>', '<failed>'\n",
    "    # Variables\n",
    "    goal_state = get_goal_state(size)\n",
    "    \n",
    "    \n",
    "    def recursive_dls(current_state, limit):\n",
    "        if current_state == goal_state:\n",
    "            return PATH_FOUND, []\n",
    "        if limit == 0:\n",
    "            return CUTOFF, None\n",
    "        \n",
    "        is_cutoff = False\n",
    "        child_states = make_moves(current_state, size)\n",
    "        for child, move in child_states:\n",
    "            flag, result = recursive_dls(child, limit-1)\n",
    "            if flag is PATH_FOUND:\n",
    "                return PATH_FOUND, [move] + result\n",
    "            if flag is CUTOFF:\n",
    "                is_cutoff = True\n",
    "        if is_cutoff:\n",
    "            return CUTOFF, None\n",
    "        return FAILED, None\n",
    "    \n",
    "\n",
    "    if not is_solvable(start_state, size):\n",
    "        return FAILED, None\n",
    "\n",
    "    flag, result = recursive_dls(start_state, limit)\n",
    "    return flag, result\n",
    "\n",
    "\n",
    "def ucs(start_state, size):\n",
    "    frontier = PriorityQueue()\n",
    "    frontier.add(start_state, 0)\n",
    "\n",
    "    parent_of = {start_state: (None, None)}  # state -> (parent, move)\n",
    "    goal_state = get_goal_state(size)\n",
    "\n",
    "    if not is_solvable(start_state, size):\n",
    "        return None\n",
    "    \n",
    "    while frontier:\n",
    "        parent, cost = frontier.pop()\n",
    "        if parent == goal_state:\n",
    "            return solution(parent, parent_of)\n",
    "        \n",
    "        child_states = make_moves(parent, size)\n",
    "        for child, move in child_states:\n",
    "            if child not in parent_of:\n",
    "                parent_of[child] = parent, move\n",
    "                frontier.add(child, cost + 1)\n",
    "            elif child in frontier and cost + 1 < frontier.get_priority(child):\n",
    "                parent_of[child] = parent, move\n",
    "                frontier.add(child, cost + 1)"
   ]
  },
  {
   "cell_type": "markdown",
   "id": "7f2898ba",
   "metadata": {},
   "source": [
    "### 1.2. Informed Search"
   ]
  },
  {
   "cell_type": "code",
   "execution_count": 71,
   "id": "ff932f29",
   "metadata": {},
   "outputs": [],
   "source": [
    "def manhattan_distance(table_1, table_2, table_size, value):\n",
    "    r1, c1 = table_1.index(value) // table_size[1], table_1.index(value) % table_size[1]\n",
    "    r2, c2 = table_2.index(value) // table_size[1], table_2.index(value) % table_size[1]\n",
    "    return abs(r1 - r2) + abs(c1 - c2)\n",
    "\n",
    "\n",
    "def heuristics(state, size, h_type):\n",
    "    cost = 0\n",
    "    goal_state = get_goal_state(size)\n",
    "    heuristics_types = {'misplaced', 'sum_distances'}\n",
    "    \n",
    "    if h_type not in heuristics_types:\n",
    "        raise ValueError(f\"'{h_type}' is not a heuristics strategy\")\n",
    "    \n",
    "    if h_type == 'misplaced':\n",
    "        return sum(1 for tile_a, tile_b in zip(state, goal_state) if tile_a != tile_b)\n",
    "    \n",
    "    if h_type == 'sum_distance':\n",
    "        return sum(manhattan_distance(state, goal_state, size, value) for value in state)\n",
    "\n",
    "\n",
    "def a_star(start_state, size, h_type='misplaced'):\n",
    "    \"\"\"\n",
    "    A* (A start) search for Sliding Tile Puzzle.\n",
    "    \n",
    "    Parameters:\n",
    "        start_state (tuple, 1d_array): The state at which the searching starts.\n",
    "        size (tuple(x, y)): The length (x) and width (y) of the puzzle.\n",
    "        h_type (str): Heuristics strategies, default set to 'misplaced'. See the note below for more details.\n",
    "\n",
    "    Returns:\n",
    "        out (list, or None): A list of sliding moves that results in goal state. Return `None` if no path found.\n",
    "\n",
    "    Notes\n",
    "    -------\n",
    "    This is a table of heuristics strategies:\n",
    "    - 'misplaced' : The number of misplaced tiles.\n",
    "    - 'sum_distances' : The sum of the distances of the tiles from their goal positions.\n",
    "    \"\"\"\n",
    "    frontier = PriorityQueue()\n",
    "    frontier.add(start_state, 0 + heuristics(start_state, size, h_type))\n",
    "\n",
    "    parent_of = {start_state: (None, None)}  # state -> (parent, move)\n",
    "    goal_state = get_goal_state(size)\n",
    "\n",
    "    if not is_solvable(start_state, size):\n",
    "        return None\n",
    "    \n",
    "    while frontier:\n",
    "        parent, parent_h_cost = frontier.pop()\n",
    "        parent_cost = parent_h_cost - heuristics(parent, size, h_type)\n",
    "        if parent == goal_state:\n",
    "            print(\"Nodes generated:\", len(parent_of))\n",
    "            return solution(parent, parent_of)\n",
    "        \n",
    "        child_states = make_moves(parent, size)\n",
    "        for child, move in child_states:\n",
    "            child_cost = parent_cost + 1 + heuristics(child, size, h_type)\n",
    "            if child not in parent_of:\n",
    "                parent_of[child] = parent, move\n",
    "                frontier.add(child, child_cost)\n",
    "            elif child in frontier and child_cost < frontier.get_priority(child):\n",
    "                parent_of[child] = parent, move\n",
    "                frontier.add(child, child_cost)"
   ]
  },
  {
   "cell_type": "markdown",
   "id": "e62cf82c",
   "metadata": {},
   "source": [
    "### 1.3. Memory-bounded Informed Search"
   ]
  },
  {
   "cell_type": "code",
   "execution_count": 72,
   "id": "d7288ad5",
   "metadata": {},
   "outputs": [],
   "source": [
    "def rbfs(start_state, size, h_type):\n",
    "    goal_state = get_goal_state(size)\n",
    "    nodes_generated = 0\n",
    "\n",
    "\n",
    "    def recursive_best_first_search(state, g_cost, f_limit):\n",
    "        if state == goal_state:\n",
    "            return [], 0\n",
    "        \n",
    "        child_states = make_moves(state, size)\n",
    "        nonlocal nodes_generated\n",
    "        nodes_generated += len(child_states)\n",
    "        if not child_states:\n",
    "            return None, math.inf\n",
    "        \n",
    "        child_costs = [max(g_cost + heuristics(state, size, h_type), g_cost + 1 + heuristics(child, size, h_type)) for child, _ in child_states]\n",
    "\n",
    "        while True:\n",
    "            sort_child_ids = [id for _, id in sorted(zip(child_costs, range(len(child_costs))))]\n",
    "            best_cost = child_costs[sort_child_ids[0]]\n",
    "            if best_cost > f_limit:\n",
    "                return None, best_cost\n",
    "            alter_cost = child_costs[sort_child_ids[0]] if len(child_costs) > 1 else math.inf\n",
    "            result, child_costs[sort_child_ids[0]] = recursive_best_first_search(child_states[sort_child_ids[0]][0], g_cost+1, min(alter_cost, f_limit))\n",
    "            if result is not None:\n",
    "                return [child_states[sort_child_ids[0]][1]] + result, 0\n",
    "            \n",
    "\n",
    "    if not is_solvable(start_state, size):\n",
    "        return None\n",
    "    \n",
    "    result, f_limit = recursive_best_first_search(start_state, 0, math.inf)\n",
    "    print(\"Nodes generated:\", nodes_generated)\n",
    "    return result"
   ]
  },
  {
   "cell_type": "markdown",
   "id": "bb29dffe",
   "metadata": {},
   "source": [
    "## Test"
   ]
  },
  {
   "cell_type": "code",
   "execution_count": null,
   "id": "17346bd9",
   "metadata": {},
   "outputs": [],
   "source": [
    "def print_path(flag, path):\n",
    "    print('Status:', flag)\n",
    "    if path:\n",
    "        print(\"Cost:\", len(path))\n",
    "        print(\"Path: \", end='')\n",
    "        for move in path:\n",
    "            print(move, end=' ')\n",
    "\n",
    "\n",
    "# initial_state = (4, 1, 3,\n",
    "#                  7, 2, 5,\n",
    "#                  0, 8, 6)\n",
    "initial_state = (1, 2, 3, 4,\n",
    "                 5, 6, 7, 8,\n",
    "                 9, 10, 11, 12,\n",
    "                 13, 14, 0, 15)\n",
    "size = (3, 3)"
   ]
  },
  {
   "cell_type": "code",
   "execution_count": 73,
   "id": "efbb799b",
   "metadata": {},
   "outputs": [
    {
     "name": "stdout",
     "output_type": "stream",
     "text": [
      "Status: False\n"
     ]
    }
   ],
   "source": [
    "path = bfs(initial_state, size)\n",
    "print_path(path is not None, path)"
   ]
  },
  {
   "cell_type": "code",
   "execution_count": 74,
   "id": "9eff96be",
   "metadata": {},
   "outputs": [
    {
     "name": "stdout",
     "output_type": "stream",
     "text": [
      "Status: False\n"
     ]
    }
   ],
   "source": [
    "path = dfs(initial_state, size)\n",
    "print_path(path is not None, path)"
   ]
  },
  {
   "cell_type": "code",
   "execution_count": 48,
   "id": "b1452b66",
   "metadata": {},
   "outputs": [
    {
     "name": "stdout",
     "output_type": "stream",
     "text": [
      "Status: <path_found>\n",
      "Cost: 8\n",
      "Path: U U D U R D R D "
     ]
    }
   ],
   "source": [
    "limit = 8\n",
    "flag, path = dls(initial_state, size, limit)\n",
    "print_path(flag, path)"
   ]
  },
  {
   "cell_type": "code",
   "execution_count": 49,
   "id": "1ba95954",
   "metadata": {},
   "outputs": [
    {
     "name": "stdout",
     "output_type": "stream",
     "text": [
      "Status: True\n",
      "Cost: 6\n",
      "Path: U U R D R D "
     ]
    }
   ],
   "source": [
    "path = ucs(initial_state, size)\n",
    "print_path(path is not None, path)"
   ]
  },
  {
   "cell_type": "code",
   "execution_count": 79,
   "id": "d896e068",
   "metadata": {},
   "outputs": [
    {
     "name": "stdout",
     "output_type": "stream",
     "text": [
      "Status: False\n"
     ]
    }
   ],
   "source": [
    "h_type = 'misplaced'\n",
    "path = a_star(initial_state, size, h_type)\n",
    "print_path(path is not None, path)"
   ]
  },
  {
   "cell_type": "code",
   "execution_count": 80,
   "id": "879f082b",
   "metadata": {},
   "outputs": [
    {
     "ename": "KeyboardInterrupt",
     "evalue": "",
     "output_type": "error",
     "traceback": [
      "\u001b[31m---------------------------------------------------------------------------\u001b[39m",
      "\u001b[31mKeyboardInterrupt\u001b[39m                         Traceback (most recent call last)",
      "\u001b[36mCell\u001b[39m\u001b[36m \u001b[39m\u001b[32mIn[80]\u001b[39m\u001b[32m, line 2\u001b[39m\n\u001b[32m      1\u001b[39m h_type = \u001b[33m'\u001b[39m\u001b[33mmisplaced\u001b[39m\u001b[33m'\u001b[39m\n\u001b[32m----> \u001b[39m\u001b[32m2\u001b[39m path = \u001b[43mrbfs\u001b[49m\u001b[43m(\u001b[49m\u001b[43minitial_state\u001b[49m\u001b[43m,\u001b[49m\u001b[43m \u001b[49m\u001b[43msize\u001b[49m\u001b[43m,\u001b[49m\u001b[43m \u001b[49m\u001b[43mh_type\u001b[49m\u001b[43m)\u001b[49m\n\u001b[32m      3\u001b[39m print_path(path \u001b[38;5;129;01mis\u001b[39;00m \u001b[38;5;129;01mnot\u001b[39;00m \u001b[38;5;28;01mNone\u001b[39;00m, path)\n",
      "\u001b[36mCell\u001b[39m\u001b[36m \u001b[39m\u001b[32mIn[72]\u001b[39m\u001b[32m, line 32\u001b[39m, in \u001b[36mrbfs\u001b[39m\u001b[34m(start_state, size, h_type)\u001b[39m\n\u001b[32m     29\u001b[39m \u001b[38;5;28;01mif\u001b[39;00m \u001b[38;5;129;01mnot\u001b[39;00m is_solvable(start_state, size):\n\u001b[32m     30\u001b[39m     \u001b[38;5;28;01mreturn\u001b[39;00m \u001b[38;5;28;01mNone\u001b[39;00m\n\u001b[32m---> \u001b[39m\u001b[32m32\u001b[39m result, f_limit = \u001b[43mrecursive_best_first_search\u001b[49m\u001b[43m(\u001b[49m\u001b[43mstart_state\u001b[49m\u001b[43m,\u001b[49m\u001b[43m \u001b[49m\u001b[32;43m0\u001b[39;49m\u001b[43m,\u001b[49m\u001b[43m \u001b[49m\u001b[43mmath\u001b[49m\u001b[43m.\u001b[49m\u001b[43minf\u001b[49m\u001b[43m)\u001b[49m\n\u001b[32m     33\u001b[39m \u001b[38;5;28mprint\u001b[39m(\u001b[33m\"\u001b[39m\u001b[33mNodes generated:\u001b[39m\u001b[33m\"\u001b[39m, nodes_generated)\n\u001b[32m     34\u001b[39m \u001b[38;5;28;01mreturn\u001b[39;00m result\n",
      "\u001b[36mCell\u001b[39m\u001b[36m \u001b[39m\u001b[32mIn[72]\u001b[39m\u001b[32m, line 24\u001b[39m, in \u001b[36mrbfs.<locals>.recursive_best_first_search\u001b[39m\u001b[34m(state, g_cost, f_limit)\u001b[39m\n\u001b[32m     22\u001b[39m     \u001b[38;5;28;01mreturn\u001b[39;00m \u001b[38;5;28;01mNone\u001b[39;00m, best_cost\n\u001b[32m     23\u001b[39m alter_cost = child_costs[sort_child_ids[\u001b[32m0\u001b[39m]] \u001b[38;5;28;01mif\u001b[39;00m \u001b[38;5;28mlen\u001b[39m(child_costs) > \u001b[32m1\u001b[39m \u001b[38;5;28;01melse\u001b[39;00m math.inf\n\u001b[32m---> \u001b[39m\u001b[32m24\u001b[39m result, child_costs[sort_child_ids[\u001b[32m0\u001b[39m]] = \u001b[43mrecursive_best_first_search\u001b[49m\u001b[43m(\u001b[49m\u001b[43mchild_states\u001b[49m\u001b[43m[\u001b[49m\u001b[43msort_child_ids\u001b[49m\u001b[43m[\u001b[49m\u001b[32;43m0\u001b[39;49m\u001b[43m]\u001b[49m\u001b[43m]\u001b[49m\u001b[43m[\u001b[49m\u001b[32;43m0\u001b[39;49m\u001b[43m]\u001b[49m\u001b[43m,\u001b[49m\u001b[43m \u001b[49m\u001b[43mg_cost\u001b[49m\u001b[43m+\u001b[49m\u001b[32;43m1\u001b[39;49m\u001b[43m,\u001b[49m\u001b[43m \u001b[49m\u001b[38;5;28;43mmin\u001b[39;49m\u001b[43m(\u001b[49m\u001b[43malter_cost\u001b[49m\u001b[43m,\u001b[49m\u001b[43m \u001b[49m\u001b[43mf_limit\u001b[49m\u001b[43m)\u001b[49m\u001b[43m)\u001b[49m\n\u001b[32m     25\u001b[39m \u001b[38;5;28;01mif\u001b[39;00m result \u001b[38;5;129;01mis\u001b[39;00m \u001b[38;5;129;01mnot\u001b[39;00m \u001b[38;5;28;01mNone\u001b[39;00m:\n\u001b[32m     26\u001b[39m     \u001b[38;5;28;01mreturn\u001b[39;00m [child_states[sort_child_ids[\u001b[32m0\u001b[39m]][\u001b[32m1\u001b[39m]] + result, \u001b[32m0\u001b[39m\n",
      "\u001b[36mCell\u001b[39m\u001b[36m \u001b[39m\u001b[32mIn[72]\u001b[39m\u001b[32m, line 24\u001b[39m, in \u001b[36mrbfs.<locals>.recursive_best_first_search\u001b[39m\u001b[34m(state, g_cost, f_limit)\u001b[39m\n\u001b[32m     22\u001b[39m     \u001b[38;5;28;01mreturn\u001b[39;00m \u001b[38;5;28;01mNone\u001b[39;00m, best_cost\n\u001b[32m     23\u001b[39m alter_cost = child_costs[sort_child_ids[\u001b[32m0\u001b[39m]] \u001b[38;5;28;01mif\u001b[39;00m \u001b[38;5;28mlen\u001b[39m(child_costs) > \u001b[32m1\u001b[39m \u001b[38;5;28;01melse\u001b[39;00m math.inf\n\u001b[32m---> \u001b[39m\u001b[32m24\u001b[39m result, child_costs[sort_child_ids[\u001b[32m0\u001b[39m]] = \u001b[43mrecursive_best_first_search\u001b[49m\u001b[43m(\u001b[49m\u001b[43mchild_states\u001b[49m\u001b[43m[\u001b[49m\u001b[43msort_child_ids\u001b[49m\u001b[43m[\u001b[49m\u001b[32;43m0\u001b[39;49m\u001b[43m]\u001b[49m\u001b[43m]\u001b[49m\u001b[43m[\u001b[49m\u001b[32;43m0\u001b[39;49m\u001b[43m]\u001b[49m\u001b[43m,\u001b[49m\u001b[43m \u001b[49m\u001b[43mg_cost\u001b[49m\u001b[43m+\u001b[49m\u001b[32;43m1\u001b[39;49m\u001b[43m,\u001b[49m\u001b[43m \u001b[49m\u001b[38;5;28;43mmin\u001b[39;49m\u001b[43m(\u001b[49m\u001b[43malter_cost\u001b[49m\u001b[43m,\u001b[49m\u001b[43m \u001b[49m\u001b[43mf_limit\u001b[49m\u001b[43m)\u001b[49m\u001b[43m)\u001b[49m\n\u001b[32m     25\u001b[39m \u001b[38;5;28;01mif\u001b[39;00m result \u001b[38;5;129;01mis\u001b[39;00m \u001b[38;5;129;01mnot\u001b[39;00m \u001b[38;5;28;01mNone\u001b[39;00m:\n\u001b[32m     26\u001b[39m     \u001b[38;5;28;01mreturn\u001b[39;00m [child_states[sort_child_ids[\u001b[32m0\u001b[39m]][\u001b[32m1\u001b[39m]] + result, \u001b[32m0\u001b[39m\n",
      "    \u001b[31m[... skipping similar frames: rbfs.<locals>.recursive_best_first_search at line 24 (8 times)]\u001b[39m\n",
      "\u001b[36mCell\u001b[39m\u001b[36m \u001b[39m\u001b[32mIn[72]\u001b[39m\u001b[32m, line 24\u001b[39m, in \u001b[36mrbfs.<locals>.recursive_best_first_search\u001b[39m\u001b[34m(state, g_cost, f_limit)\u001b[39m\n\u001b[32m     22\u001b[39m     \u001b[38;5;28;01mreturn\u001b[39;00m \u001b[38;5;28;01mNone\u001b[39;00m, best_cost\n\u001b[32m     23\u001b[39m alter_cost = child_costs[sort_child_ids[\u001b[32m0\u001b[39m]] \u001b[38;5;28;01mif\u001b[39;00m \u001b[38;5;28mlen\u001b[39m(child_costs) > \u001b[32m1\u001b[39m \u001b[38;5;28;01melse\u001b[39;00m math.inf\n\u001b[32m---> \u001b[39m\u001b[32m24\u001b[39m result, child_costs[sort_child_ids[\u001b[32m0\u001b[39m]] = \u001b[43mrecursive_best_first_search\u001b[49m\u001b[43m(\u001b[49m\u001b[43mchild_states\u001b[49m\u001b[43m[\u001b[49m\u001b[43msort_child_ids\u001b[49m\u001b[43m[\u001b[49m\u001b[32;43m0\u001b[39;49m\u001b[43m]\u001b[49m\u001b[43m]\u001b[49m\u001b[43m[\u001b[49m\u001b[32;43m0\u001b[39;49m\u001b[43m]\u001b[49m\u001b[43m,\u001b[49m\u001b[43m \u001b[49m\u001b[43mg_cost\u001b[49m\u001b[43m+\u001b[49m\u001b[32;43m1\u001b[39;49m\u001b[43m,\u001b[49m\u001b[43m \u001b[49m\u001b[38;5;28;43mmin\u001b[39;49m\u001b[43m(\u001b[49m\u001b[43malter_cost\u001b[49m\u001b[43m,\u001b[49m\u001b[43m \u001b[49m\u001b[43mf_limit\u001b[49m\u001b[43m)\u001b[49m\u001b[43m)\u001b[49m\n\u001b[32m     25\u001b[39m \u001b[38;5;28;01mif\u001b[39;00m result \u001b[38;5;129;01mis\u001b[39;00m \u001b[38;5;129;01mnot\u001b[39;00m \u001b[38;5;28;01mNone\u001b[39;00m:\n\u001b[32m     26\u001b[39m     \u001b[38;5;28;01mreturn\u001b[39;00m [child_states[sort_child_ids[\u001b[32m0\u001b[39m]][\u001b[32m1\u001b[39m]] + result, \u001b[32m0\u001b[39m\n",
      "\u001b[36mCell\u001b[39m\u001b[36m \u001b[39m\u001b[32mIn[72]\u001b[39m\u001b[32m, line 10\u001b[39m, in \u001b[36mrbfs.<locals>.recursive_best_first_search\u001b[39m\u001b[34m(state, g_cost, f_limit)\u001b[39m\n\u001b[32m      7\u001b[39m \u001b[38;5;28;01mif\u001b[39;00m state == goal_state:\n\u001b[32m      8\u001b[39m     \u001b[38;5;28;01mreturn\u001b[39;00m [], \u001b[32m0\u001b[39m\n\u001b[32m---> \u001b[39m\u001b[32m10\u001b[39m child_states = \u001b[43mmake_moves\u001b[49m\u001b[43m(\u001b[49m\u001b[43mstate\u001b[49m\u001b[43m,\u001b[49m\u001b[43m \u001b[49m\u001b[43msize\u001b[49m\u001b[43m)\u001b[49m\n\u001b[32m     11\u001b[39m \u001b[38;5;28;01mnonlocal\u001b[39;00m nodes_generated\n\u001b[32m     12\u001b[39m nodes_generated += \u001b[38;5;28mlen\u001b[39m(child_states)\n",
      "\u001b[36mCell\u001b[39m\u001b[36m \u001b[39m\u001b[32mIn[70]\u001b[39m\u001b[32m, line 30\u001b[39m, in \u001b[36mmake_moves\u001b[39m\u001b[34m(state, size)\u001b[39m\n\u001b[32m     28\u001b[39m     child_states.append((get_child(state, size, \u001b[33m'\u001b[39m\u001b[33mL\u001b[39m\u001b[33m'\u001b[39m), \u001b[33m'\u001b[39m\u001b[33mL\u001b[39m\u001b[33m'\u001b[39m))\n\u001b[32m     29\u001b[39m \u001b[38;5;28;01mif\u001b[39;00m blank_id % size[\u001b[32m1\u001b[39m] != size[\u001b[32m1\u001b[39m] - \u001b[32m1\u001b[39m:  \u001b[38;5;66;03m# Slide right\u001b[39;00m\n\u001b[32m---> \u001b[39m\u001b[32m30\u001b[39m     child_states.append((\u001b[43mget_child\u001b[49m\u001b[43m(\u001b[49m\u001b[43mstate\u001b[49m\u001b[43m,\u001b[49m\u001b[43m \u001b[49m\u001b[43msize\u001b[49m\u001b[43m,\u001b[49m\u001b[43m \u001b[49m\u001b[33;43m'\u001b[39;49m\u001b[33;43mR\u001b[39;49m\u001b[33;43m'\u001b[39;49m\u001b[43m)\u001b[49m, \u001b[33m'\u001b[39m\u001b[33mR\u001b[39m\u001b[33m'\u001b[39m))\n\u001b[32m     32\u001b[39m \u001b[38;5;28;01mreturn\u001b[39;00m child_states\n",
      "\u001b[36mCell\u001b[39m\u001b[36m \u001b[39m\u001b[32mIn[70]\u001b[39m\u001b[32m, line 16\u001b[39m, in \u001b[36mget_child\u001b[39m\u001b[34m(state, size, move)\u001b[39m\n\u001b[32m     13\u001b[39m     new_id += \u001b[32m1\u001b[39m\n\u001b[32m     15\u001b[39m child[old_id], child[new_id] = child[new_id], child[old_id]\n\u001b[32m---> \u001b[39m\u001b[32m16\u001b[39m \u001b[38;5;28;01mreturn\u001b[39;00m \u001b[38;5;28;43mtuple\u001b[39;49m\u001b[43m(\u001b[49m\u001b[43mchild\u001b[49m\u001b[43m)\u001b[49m\n",
      "\u001b[31mKeyboardInterrupt\u001b[39m: "
     ]
    }
   ],
   "source": [
    "h_type = 'misplaced'\n",
    "path = rbfs(initial_state, size, h_type)\n",
    "print_path(path is not None, path)"
   ]
  }
 ],
 "metadata": {
  "kernelspec": {
   "display_name": "learnpy",
   "language": "python",
   "name": "python3"
  },
  "language_info": {
   "codemirror_mode": {
    "name": "ipython",
    "version": 3
   },
   "file_extension": ".py",
   "mimetype": "text/x-python",
   "name": "python",
   "nbconvert_exporter": "python",
   "pygments_lexer": "ipython3",
   "version": "3.13.2"
  }
 },
 "nbformat": 4,
 "nbformat_minor": 5
}
