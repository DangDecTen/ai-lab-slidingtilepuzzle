{
 "cells": [
  {
   "cell_type": "markdown",
   "id": "f01d5615",
   "metadata": {},
   "source": [
    "## Sliding Tile Puzzle"
   ]
  },
  {
   "cell_type": "code",
   "execution_count": null,
   "id": "345c33f0",
   "metadata": {},
   "outputs": [],
   "source": [
    "# itertools for permutations\n",
    "# create a dictionary using the permutations with None value\n",
    "# traverse from the target state, mark all visted states with the dictionary to avoid cycles\n",
    "# return the number of sovable states and unsovable states\n",
    "\n",
    "# Then compare with the go-to solution for 8-puzzle.\n",
    "# - List of all possible states with permutations\n",
    "# - Use given rule to check if a state is solvable\n",
    "# - Return the counting"
   ]
  },
  {
   "cell_type": "code",
   "execution_count": 33,
   "id": "0f8e648b",
   "metadata": {},
   "outputs": [
    {
     "ename": "MemoryError",
     "evalue": "",
     "output_type": "error",
     "traceback": [
      "\u001b[31m---------------------------------------------------------------------------\u001b[39m",
      "\u001b[31mMemoryError\u001b[39m                               Traceback (most recent call last)",
      "\u001b[36mCell\u001b[39m\u001b[36m \u001b[39m\u001b[32mIn[33]\u001b[39m\u001b[32m, line 11\u001b[39m\n\u001b[32m      8\u001b[39m target_state = \u001b[38;5;28mtuple\u001b[39m(\u001b[38;5;28mlist\u001b[39m(\u001b[38;5;28mrange\u001b[39m(\u001b[32m1\u001b[39m, n*m)) + [\u001b[32m0\u001b[39m])\n\u001b[32m     10\u001b[39m \u001b[38;5;66;03m# Generate all possible state\u001b[39;00m\n\u001b[32m---> \u001b[39m\u001b[32m11\u001b[39m states = {p: \u001b[38;5;28;01mFalse\u001b[39;00m \u001b[38;5;28;01mfor\u001b[39;00m p \u001b[38;5;129;01min\u001b[39;00m permutations(target_state)}\n",
      "\u001b[31mMemoryError\u001b[39m: "
     ]
    }
   ],
   "source": [
    "from itertools import permutations\n",
    "from collections import deque\n",
    "from typing import Dict, List, Tuple\n",
    "\n",
    "\n",
    "# Input length and width\n",
    "n, m = 4, 4\n",
    "target_state = tuple(list(range(1, n*m)) + [0])\n",
    "\n",
    "# Generate all possible state\n",
    "states = {p: False for p in permutations(target_state)}"
   ]
  },
  {
   "cell_type": "code",
   "execution_count": 31,
   "id": "68f4447b",
   "metadata": {},
   "outputs": [],
   "source": [
    "# %%timeit\n",
    "\n",
    "\n",
    "def sliding(current_state, shape):\n",
    "    \"\"\"\n",
    "    Determine all next states by performing 1 sliding move from the current state.\n",
    "    \n",
    "    Parameters:\n",
    "        current_state (tuple): The current state.\n",
    "        shape (tuple(n, m)): The length (n) and the width (m) of the state.\n",
    "        \n",
    "    Returns:\n",
    "        list: All next states.\"\"\"\n",
    "    sliding_moves = []\n",
    "    next_states = []\n",
    "    \n",
    "    # Get sliding moves:\n",
    "    # - 'U' : Up\n",
    "    # - 'D' : Down\n",
    "    # - 'L' : Left\n",
    "    # - 'R' : Right\n",
    "    blank_id = current_state.index(0)\n",
    "    if blank_id - shape[1] >= 0:  # Slide up\n",
    "        sliding_moves.append('U')\n",
    "    if blank_id + shape[1] < len(current_state):  # Slide down\n",
    "        sliding_moves.append('D')\n",
    "    if blank_id - 1 >= (blank_id // m * m):  # Slide left\n",
    "        sliding_moves.append('L')\n",
    "    if blank_id + 1 < (blank_id // m * m + m):  # Slide right\n",
    "        sliding_moves.append('R')\n",
    "    \n",
    "    # Get the next state for each sliding moves\n",
    "    for move in sliding_moves:\n",
    "        next_state = list(current_state)\n",
    "        \n",
    "        if move == 'U':\n",
    "            next_state[blank_id], next_state[blank_id - shape[1]] = next_state[blank_id - shape[1]], next_state[blank_id]\n",
    "        elif move == 'D':\n",
    "            next_state[blank_id], next_state[blank_id + shape[1]] = next_state[blank_id + shape[1]], next_state[blank_id]\n",
    "        elif move == 'L':\n",
    "            next_state[blank_id], next_state[blank_id - 1] = next_state[blank_id - 1], next_state[blank_id]\n",
    "        elif move == 'R':\n",
    "            next_state[blank_id], next_state[blank_id + 1] = next_state[blank_id + 1], next_state[blank_id]\n",
    "        \n",
    "        next_states.append(tuple(next_state))\n",
    "    \n",
    "    return next_states\n",
    "\n",
    "\n",
    "def mark_solvable_states(states, target_state, shape):\n",
    "    \"\"\"\n",
    "    Given all possible states, mark every solvable states.\n",
    "\n",
    "    Traverse an imagined tree with nodes are solvable states and edges are possible actions\\\n",
    "    of a certain state. The root node is the target state. Mark all visited nodes.\n",
    "\n",
    "    Parameters:\n",
    "        states (dict): Dictionary of all possible states with boolean values marking the solvability.\n",
    "        target_state (tuple): The target state, the first solvable state, and the root node. Can be use as `states` key.\n",
    "        shape (tuple(n, m)): The length (n) and the width (m) of the state.\n",
    "    \"\"\"\n",
    "    q = deque()\n",
    "\n",
    "    states[target_state] = True  # Mark target state\n",
    "    q.append(target_state)\n",
    "    while q:\n",
    "        parent_state = q.popleft()\n",
    "        child_states = sliding(parent_state, shape)\n",
    "        \n",
    "        for state in child_states:\n",
    "            if not states[state]:  # If not visited\n",
    "                states[state] = True\n",
    "                q.append(state)\n",
    "\n",
    "\n",
    "# Mark solvable states\n",
    "mark_solvable_states(states, target_state, (n, m))"
   ]
  },
  {
   "cell_type": "code",
   "execution_count": 32,
   "id": "ab3bb4e1",
   "metadata": {},
   "outputs": [
    {
     "name": "stdout",
     "output_type": "stream",
     "text": [
      "Number of all possible states: 362880\n",
      "Number of solvable states: 181440\n"
     ]
    }
   ],
   "source": [
    "count_solvable = sum(1 for state in states if states[state])\n",
    "print(\"Number of all possible states:\", len(states))\n",
    "print(\"Number of solvable states:\", count_solvable)"
   ]
  }
 ],
 "metadata": {
  "kernelspec": {
   "display_name": "learnpy",
   "language": "python",
   "name": "python3"
  },
  "language_info": {
   "codemirror_mode": {
    "name": "ipython",
    "version": 3
   },
   "file_extension": ".py",
   "mimetype": "text/x-python",
   "name": "python",
   "nbconvert_exporter": "python",
   "pygments_lexer": "ipython3",
   "version": "3.13.2"
  }
 },
 "nbformat": 4,
 "nbformat_minor": 5
}
