{
 "cells": [
  {
   "cell_type": "markdown",
   "id": "f01d5615",
   "metadata": {},
   "source": [
    "## Sliding Tile Puzzle"
   ]
  },
  {
   "cell_type": "code",
   "execution_count": 42,
   "id": "5d59318a",
   "metadata": {},
   "outputs": [],
   "source": [
    "from collections import deque\n",
    "from copy import deepcopy\n",
    "\n",
    "\n",
    "\"\"\"\n",
    "Helper Functions\n",
    "\"\"\"\n",
    "\n",
    "def index_2d(array_2d: list[list], target: int):\n",
    "    for i, row in enumerate(array_2d):\n",
    "        for j, val in enumerate(row):\n",
    "            if val == target:\n",
    "                return (i, j)\n",
    "    return None\n",
    "\n",
    "def tuple_2d(array_2D):\n",
    "    return tuple(map(tuple, array_2D))"
   ]
  },
  {
   "cell_type": "code",
   "execution_count": 43,
   "id": "f7df9929",
   "metadata": {},
   "outputs": [],
   "source": [
    "def count_inversion(state):\n",
    "    flat = [item for row in state for item in row if item != 0]\n",
    "\n",
    "    return sum(flat[i] > flat[j] for i in range(len(flat)) for j in range(i + 1, len(flat)))\n",
    "\n",
    "\n",
    "def is_solvable(state):\n",
    "    \"\"\"\n",
    "    Determine if a state is solvable.\n",
    "    \n",
    "    Parameters:\n",
    "        state (2D_array): A state of the puzzle.\n",
    "\n",
    "    Returns:\n",
    "        bool: Return `True` if solvable, `False` otherwise.\n",
    "    \"\"\"\n",
    "    length, width = len(state), len(state[0])\n",
    "\n",
    "    # Count inversion\n",
    "    inversions = count_inversion(state)\n",
    "    \n",
    "    # Parity check\n",
    "    if width % 2 != 0:  # if width is odd\n",
    "        return inversions % 2 == 0\n",
    "    if (index_2d(state, 0)[0] % 2 == 0) == (length % 2 == 0):  # If black tile is on even row\n",
    "        return inversions % 2 != 0\n",
    "    return inversions % 2 == 0"
   ]
  },
  {
   "cell_type": "code",
   "execution_count": 44,
   "id": "65ee0e94",
   "metadata": {},
   "outputs": [
    {
     "name": "stdout",
     "output_type": "stream",
     "text": [
      "solvable\n",
      "[[5, 4, 3], [2, 1, 0]]\n",
      "solvable\n",
      "[[7, 6, 5, 0], [4, 3, 2, 1]]\n",
      "unsolvable\n",
      "[[7, 6, 5, 4], [3, 2, 1, 0]]\n"
     ]
    }
   ],
   "source": [
    "states = [[[5, 4, 3],\n",
    "           [2, 1, 0]],\n",
    "          [[7, 6, 5, 0],\n",
    "           [4, 3, 2, 1]],\n",
    "          [[7, 6, 5, 4],\n",
    "           [3, 2, 1, 0]]]\n",
    "for state in states:\n",
    "    if is_solvable(state):\n",
    "        print(f\"solvable\\n{state}\")\n",
    "    else:\n",
    "        print(f\"unsolvable\\n{state}\")"
   ]
  },
  {
   "cell_type": "code",
   "execution_count": 45,
   "id": "f7a174dd",
   "metadata": {},
   "outputs": [
    {
     "data": {
      "text/plain": [
       "[[2, 5], [6, 1]]"
      ]
     },
     "execution_count": 45,
     "metadata": {},
     "output_type": "execute_result"
    }
   ],
   "source": [
    "a = [[2, 5], [6, 1]]\n",
    "sorted(a)"
   ]
  },
  {
   "cell_type": "code",
   "execution_count": 51,
   "id": "ab08ec9e",
   "metadata": {},
   "outputs": [],
   "source": [
    "def get_child(parent_state):\n",
    "    \"\"\"\n",
    "    Determine every child states can be reached from the parent state.\n",
    "    \n",
    "    From the parent state, performing every possible 1-sliding-move on the blank tile. Some\\\n",
    "    possible moves are sliding up (U), sliding down (D), sliding (L), and sliding right (R).\n",
    "\n",
    "    Parameters:\n",
    "        parent_state (2D_array): The parent state.\n",
    "\n",
    "    Returns:\n",
    "        out (1D_array): List of child states can be reached. Return empty list if there is no child state.    \n",
    "    \"\"\"\n",
    "    def child(move):\n",
    "        \"\"\"\n",
    "        Perform 1 move from the current state and return the destination state.\n",
    "        \"\"\"\n",
    "        state = deepcopy(parent_state)\n",
    "        cur_i, cur_j = index_2d(parent_state, 0)\n",
    "        des_i, des_j = cur_i, cur_j\n",
    "        \n",
    "        if move == 'U':\n",
    "            des_i -= 1\n",
    "        elif move == 'D':\n",
    "            des_i += 1\n",
    "        elif move == 'L':\n",
    "            des_j -= 1\n",
    "        elif move == 'R':\n",
    "            des_j += 1\n",
    "        \n",
    "        state[cur_i][cur_j], state[des_i][des_j] = state[des_i][des_j], state[cur_i][cur_j]\n",
    "        return state\n",
    "\n",
    "    \n",
    "    child_states = []\n",
    "\n",
    "    length, width = len(parent_state), len(parent_state[0])\n",
    "    blank_id = index_2d(parent_state, 0)\n",
    "    if blank_id[0] - 1 >= 0:  # Slide up\n",
    "        child_states.append(child('U'))\n",
    "    if blank_id[0] + 1 < length:  # Slide down\n",
    "        child_states.append(child('D'))\n",
    "    if blank_id[1] - 1 >= blank_id[1] // width * width:  # Slide left\n",
    "        child_states.append(child('L'))\n",
    "    if blank_id[1] + 1 < blank_id[1] // width * width + width:  # Slide right\n",
    "        child_states.append(child('R'))\n",
    "\n",
    "    return child_states\n",
    "\n",
    "\n",
    "def check_goal(state_2d):\n",
    "    \"\"\"\n",
    "    Determine if input state is a goal state. Goal state is pre-determined by the problem.\n",
    "    \"\"\"\n",
    "    length, width = len(state), len(state[0])\n",
    "    \n",
    "    goal_state_1d = list(range(1, length * width)) + [0]\n",
    "    for i, row in enumerate(state_2d):\n",
    "        for j, val in enumerate(row):\n",
    "            if goal_state_1d[i * width + j] != state_2d[i][j]:\n",
    "                return False\n",
    "    return True\n",
    "\n",
    "\n",
    "def solution(goal_state, parent):\n",
    "    \"\"\"\n",
    "    Return backtracking path from goal state to initial state.\n",
    "\n",
    "    Parameters:\n",
    "        goal_state (2D_array): The goal state.\n",
    "        parent (dict{ tuple: list }): A dictionary that stores reference to parent state of a child state. Reference\\\n",
    "            to parent state of the initial state is `None`.\n",
    "    \n",
    "    Returns:\n",
    "        out (1D_array): The backtracking path from goal state to initial state.\n",
    "    \"\"\"\n",
    "    backtrack_path = [goal_state]    \n",
    "    temp_state = goal_state\n",
    "    while parent[tuple_2d(temp_state)]:\n",
    "        temp_state = parent[tuple_2d(temp_state)]\n",
    "        backtrack_path.append(temp_state)\n",
    "    return backtrack_path\n",
    "\n",
    "\n",
    "def bfs(initial_state):\n",
    "    \"\"\"\n",
    "    Solving Sliding Tile Puzzle with BFS.\n",
    "    \n",
    "    Parameters:\n",
    "        initial_state (2D_array): A state of the puzzle from where BFS start traverse.\n",
    "    \n",
    "    Returns:\n",
    "        solution (1D_array, or None): If goal state is reached, return a backtracking path\\\n",
    "            . Return `None` otherwise.\n",
    "    \"\"\"\n",
    "    frontier = deque([initial_state])\n",
    "    parent = {tuple_2d(initial_state): None}\n",
    "\n",
    "    # Check solvability\n",
    "    if not is_solvable(initial_state):\n",
    "        return None\n",
    "\n",
    "    # If initial state is goal state\n",
    "    if check_goal(initial_state):\n",
    "        return solution(initial_state, parent)\n",
    "    \n",
    "    # Traverse tree\n",
    "    goal_state = None\n",
    "    while (not goal_state) and (frontier):\n",
    "        parent_state = frontier.popleft()\n",
    "        child_states = get_child(parent_state)\n",
    "        \n",
    "        for child_state in child_states:\n",
    "            if (tuple_2d(child_state) not in parent):  # If not explored\n",
    "                parent[tuple_2d(child_state)] = parent_state  # Mark explored, and add parent state for backtracking\n",
    "                if check_goal(child_state):\n",
    "                    goal_state = child_state\n",
    "                    break\n",
    "                frontier.append(child_state)  # Add queue for traversing\n",
    "\n",
    "    if goal_state:\n",
    "        return solution(goal_state, parent)\n",
    "    return None"
   ]
  },
  {
   "cell_type": "code",
   "execution_count": 53,
   "id": "17346bd9",
   "metadata": {},
   "outputs": [
    {
     "name": "stdout",
     "output_type": "stream",
     "text": [
      "Backtracking from goal state...\n",
      "[[1, 2], [3, 0]]\n",
      "\n",
      "[[1, 2], [0, 3]]\n",
      "\n",
      "[[0, 2], [1, 3]]\n",
      "\n",
      "[[2, 0], [1, 3]]\n",
      "\n"
     ]
    }
   ],
   "source": [
    "initial_state = [[2, 0],\n",
    "                 [1, 3]]\n",
    "path = bfs(initial_state)\n",
    "if path:\n",
    "    print(\"Backtracking from goal state...\")\n",
    "    for state in path:\n",
    "        print(state)\n",
    "        print()\n",
    "else:\n",
    "    print(\"No goal state reached!\")"
   ]
  },
  {
   "cell_type": "code",
   "execution_count": 52,
   "id": "101a24c8",
   "metadata": {},
   "outputs": [
    {
     "data": {
      "text/plain": [
       "True"
      ]
     },
     "execution_count": 52,
     "metadata": {},
     "output_type": "execute_result"
    }
   ],
   "source": [
    "state = [[1, 2],\n",
    "         [3, 0]]\n",
    "\n",
    "check_goal(state)"
   ]
  }
 ],
 "metadata": {
  "kernelspec": {
   "display_name": "learnpy",
   "language": "python",
   "name": "python3"
  },
  "language_info": {
   "codemirror_mode": {
    "name": "ipython",
    "version": 3
   },
   "file_extension": ".py",
   "mimetype": "text/x-python",
   "name": "python",
   "nbconvert_exporter": "python",
   "pygments_lexer": "ipython3",
   "version": "3.13.2"
  }
 },
 "nbformat": 4,
 "nbformat_minor": 5
}
